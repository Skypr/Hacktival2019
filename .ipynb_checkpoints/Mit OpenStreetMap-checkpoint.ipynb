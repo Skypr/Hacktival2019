{
 "cells": [
  {
   "cell_type": "code",
   "execution_count": 133,
   "metadata": {},
   "outputs": [],
   "source": [
    "import numpy as np\n",
    "from laspy.file import File\n",
    "import pandas\n",
    "import geopandas\n",
    "from shapely.geometry import Point\n",
    "from IPython.display import display, clear_output\n",
    "import pptk\n",
    "import osmium as osm\n",
    "import PIL.ImageDraw as ImageDraw\n",
    "import PIL.Image as Image"
   ]
  },
  {
   "cell_type": "code",
   "execution_count": 58,
   "metadata": {},
   "outputs": [],
   "source": [
    "def isInBox(point_x, point_y , bounds):\n",
    "    #bounds = (minx, miny, maxx, maxy)\n",
    "    return ((point_x > bounds[0]) and (point_x < bounds[2]) and (point_y > bounds[1]) and (point_y < bounds[3]))"
   ]
  },
  {
   "cell_type": "code",
   "execution_count": 105,
   "metadata": {},
   "outputs": [],
   "source": [
    "def crossProdTest(point_a, point_b, point_c):\n",
    "    if ((point_a[1] == point_b[1]) and (point_b[1] == point_c[1])):\n",
    "        if ((point_b[0] <= point_a[0]) and (point_a[0] <= point_c[0]) or (point_c[0] <= point_a[0]) and (point_a[0] <= point_b[0])):\n",
    "            return 0\n",
    "        else:\n",
    "            return 1\n",
    "        \n",
    "    if ((point_a[1] == point_b[1]) and (point_a[0] == point_b[0])):\n",
    "        return 0\n",
    "    \n",
    "    if (point_b[1] > point_c[1]):\n",
    "        point_b, point_c = point_c, point_b\n",
    "    \n",
    "    if ((point_a[1] <= point_b[1]) or (point_a[1] > point_c[1])):\n",
    "        return 1\n",
    "    \n",
    "    delta = (point_b[0] - point_a[0]) * (point_c[1] - point_a[1]) - (point_b[1] - point_a[1]) * (point_c[0] - point_a[0])\n",
    "    \n",
    "    if (delta > 0):\n",
    "        return -1\n",
    "    elif (delta < 0):\n",
    "        return 1\n",
    "    else:\n",
    "        return 0"
   ]
  },
  {
   "cell_type": "code",
   "execution_count": 130,
   "metadata": {},
   "outputs": [],
   "source": [
    "def isPointInPolygon(point, polygon):\n",
    "    #polygon = np.insert(polygon, 0, polygon[-1])    \n",
    "    polygon = [polygon[-1]] + polygon\n",
    "    t = -1\n",
    "    \n",
    "    #print(\"poly: \" + str(polygon))\n",
    "    \n",
    "    for i in range(0, (len(polygon) - 1)):\n",
    "        t = t * crossProdTest(point, polygon[i], polygon[i + 1])\n",
    "        if (t == 0):\n",
    "            return True\n",
    "    return (t >= 0)\n",
    "    "
   ]
  },
  {
   "cell_type": "code",
   "execution_count": 76,
   "metadata": {},
   "outputs": [],
   "source": [
    "shape_file = \"data/colonge_small/shp_koeln/gis_osm_buildings.shp\"\n",
    "shape  = geopandas.read_file(shape_file)\n",
    "\n",
    "lidar_file = \"data/colonge_small/dom1l-fp_32356_5645_1_nw.xyz\"\n",
    "#read the file into a numpy array\n",
    "lidar_points = np.loadtxt(open(lidar_file, \"r\"), delimiter=\",\", skiprows=0)"
   ]
  },
  {
   "cell_type": "code",
   "execution_count": 131,
   "metadata": {},
   "outputs": [
    {
     "name": "stdout",
     "output_type": "stream",
     "text": [
      "[(356617.3888255692, 5645534.691977032), (356620.1779379734, 5645536.4062955035), (356622.4720819072, 5645532.681917631), (356619.6829684071, 5645530.967597912), (356617.3888255692, 5645534.691977032)]\n",
      "False\n"
     ]
    }
   ],
   "source": [
    "max_index = shape.index.max()\n",
    "\n",
    "list_polygons = []\n",
    "\n",
    "for i in range(0, (max_index + 1)):\n",
    "    current_object = shape.loc[i]\n",
    "    \n",
    "    shape_name = current_object['name']\n",
    "    shape_type = current_object['type']\n",
    "    \n",
    "    if (shape_name == None and (shape_type == None or shape_type == \"appartment\" or shape_type == \"house\")):\n",
    "        #print(current_object['geometry'])\n",
    "        geometry_object = current_object['geometry']\n",
    "        \n",
    "        #print(geometry_object.size)\n",
    "\n",
    "        list_polygons.append((geometry_object.exterior.coords[:], geometry_object.bounds))\n",
    "        \n",
    "        #print(len(geometry_object.exterior.coords[:]))\n",
    "\n",
    "list_polygons = np.array(list_polygons)[0]\n",
    "\n",
    "print((list_polygons[0]))\n",
    "\n",
    "print(isPointInPolygon((356618,5645533), list_polygons[0]))\n",
    "\n",
    "z_sorted = np.flip(lidar_points[lidar_points[:,2].argsort()], 0)"
   ]
  },
  {
   "cell_type": "code",
   "execution_count": 135,
   "metadata": {},
   "outputs": [],
   "source": [
    "image = Image.new(\"RGB\", (640, 480))\n",
    "\n",
    "draw = ImageDraw.Draw(image)\n",
    "\n",
    "# points = ((1,1), (2,1), (2,2), (1,2), (0.5,1.5))\n",
    "draw.polygon((list_polygons[0]), fill=200)\n",
    "\n",
    "image.show()"
   ]
  },
  {
   "cell_type": "code",
   "execution_count": null,
   "metadata": {},
   "outputs": [],
   "source": []
  }
 ],
 "metadata": {
  "kernelspec": {
   "display_name": "Python 3",
   "language": "python",
   "name": "python3"
  },
  "language_info": {
   "codemirror_mode": {
    "name": "ipython",
    "version": 3
   },
   "file_extension": ".py",
   "mimetype": "text/x-python",
   "name": "python",
   "nbconvert_exporter": "python",
   "pygments_lexer": "ipython3",
   "version": "3.6.5"
  }
 },
 "nbformat": 4,
 "nbformat_minor": 2
}
