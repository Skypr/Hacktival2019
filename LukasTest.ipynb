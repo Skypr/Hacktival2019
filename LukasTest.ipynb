{
 "cells": [
  {
   "cell_type": "code",
   "execution_count": 132,
   "metadata": {},
   "outputs": [],
   "source": [
    "import numpy as np\n",
    "from laspy.file import File\n",
    "from pandas import DataFrame\n",
    "from geopandas import GeoDataFrame\n",
    "from shapely.geometry import Point\n",
    "from IPython.display import display, clear_output\n",
    "import pptk"
   ]
  },
  {
   "cell_type": "code",
   "execution_count": 7,
   "metadata": {},
   "outputs": [],
   "source": [
    "file_name = \"data/colonge_small/dom1l-fp_32356_5645_1_nw.xyz\"\n",
    "\n",
    "#read the file into a numpy array\n",
    "lidar_points = np.loadtxt(open(file_name, \"r\"), delimiter=\",\", skiprows=0)\n",
    "\n",
    "color = np.array(np.zeros((lidar_points.shape[0], 3)))\n",
    "\n",
    "for i in range(0, int(lidar_points.shape[0])) :\n",
    "    color[i][0] = 1"
   ]
  },
  {
   "cell_type": "code",
   "execution_count": 125,
   "metadata": {},
   "outputs": [],
   "source": [
    "def compare(leader, follower, axis, color_array):\n",
    "    \n",
    "    cutoff = 4\n",
    "    \n",
    "    red = np.array([1,0,0])\n",
    "    \n",
    "    purple = np.array([1,0,1])\n",
    "    \n",
    "    edge_array = np.zeros(follower.shape)\n",
    "    \n",
    "    point_index = 0\n",
    "    \n",
    "    for point in follower:\n",
    "        #search the closest y value\n",
    "        index = 0\n",
    "        \n",
    "        closest_distance = np.Infinity\n",
    "        closest_index = np.Infinity\n",
    "        \n",
    "        while (index < leader.shape[0]):\n",
    "            distance = point[axis] - leader[index][axis]\n",
    "            \n",
    "            if (distance > closest_distance):\n",
    "                #we are getting further away again\n",
    "                break;\n",
    "            else:\n",
    "                closest_distance = distance\n",
    "                closest_index = index\n",
    "            \n",
    "            index = index + 1\n",
    "        \n",
    "        delta = point[2] - leader[closest_index][2]\n",
    "        \n",
    "        if (delta > cutoff):\n",
    "            color_array[point_index] = red\n",
    "        elif ((-1 * delta) > cutoff):\n",
    "            color_array[point_index] = purple\n",
    "            \n",
    "            \n",
    "        point_index = point_index + 1\n",
    "    \n",
    "    return color_array\n",
    "        "
   ]
  },
  {
   "cell_type": "code",
   "execution_count": 130,
   "metadata": {},
   "outputs": [],
   "source": [
    "def threeToTwoD(threeDimData, color_array):\n",
    "    \n",
    "    current_pos = 0\n",
    "\n",
    "    max_size = 0;\n",
    "    \n",
    "    previous_array = 0\n",
    "    previous_size = 0\n",
    "    \n",
    "    have_to_compare = False\n",
    "    \n",
    "    color_index = 0\n",
    "    \n",
    "    #we now fit all arrays to the same size \n",
    "    while (current_pos < threeDimData.shape[0]):\n",
    "        \n",
    "        clear_output(wait=True)\n",
    "        display(\"progress: \" + str(current_pos / threeDimData.shape[0]))\n",
    "        \n",
    "        current_start = current_pos\n",
    "        \n",
    "        current_value = threeDimData[current_pos][0]\n",
    "        \n",
    "        if (current_pos != 0):\n",
    "            have_to_compare = True\n",
    "        \n",
    "        size = 0\n",
    "        \n",
    "        while (current_pos < threeDimData.shape[0] and threeDimData[current_pos][0] == current_value):\n",
    "            size = size + 1\n",
    "            current_pos = current_pos + 1\n",
    "        \n",
    "        current_array = threeDimData[current_start:current_pos]\n",
    "        \n",
    "        if (have_to_compare): #we have to compare the current_array with the last\n",
    "            color_array[current_start:current_pos] = compare(previous_array, current_array, 1, color_array[current_start:current_pos])\n",
    "                \n",
    "        color_index = color_index + size\n",
    "        \n",
    "        previous_size = size\n",
    "        previous_array = current_array\n",
    "        \n",
    "    return color_array\n",
    "    "
   ]
  },
  {
   "cell_type": "code",
   "execution_count": null,
   "metadata": {
    "scrolled": true
   },
   "outputs": [
    {
     "data": {
      "text/plain": [
       "'progress: 0.6231140334899761'"
      ]
     },
     "metadata": {},
     "output_type": "display_data"
    }
   ],
   "source": [
    "color = np.full((lidar_points.shape[0], 3), 1)\n",
    "color_new = threeToTwoD(lidar_points, color)\n",
    "print(color_new)"
   ]
  },
  {
   "cell_type": "code",
   "execution_count": 111,
   "metadata": {},
   "outputs": [
    {
     "ename": "NameError",
     "evalue": "name 'color_new' is not defined",
     "output_type": "error",
     "traceback": [
      "\u001b[1;31m---------------------------------------------------------------------------\u001b[0m",
      "\u001b[1;31mNameError\u001b[0m                                 Traceback (most recent call last)",
      "\u001b[1;32m<ipython-input-111-f082ac346c4a>\u001b[0m in \u001b[0;36m<module>\u001b[1;34m\u001b[0m\n\u001b[1;32m----> 1\u001b[1;33m \u001b[0mv\u001b[0m \u001b[1;33m=\u001b[0m \u001b[0mpptk\u001b[0m\u001b[1;33m.\u001b[0m\u001b[0mviewer\u001b[0m\u001b[1;33m(\u001b[0m\u001b[0mlidar_points\u001b[0m\u001b[1;33m,\u001b[0m \u001b[0mcolor_new\u001b[0m\u001b[1;33m)\u001b[0m\u001b[1;33m\u001b[0m\u001b[0m\n\u001b[0m",
      "\u001b[1;31mNameError\u001b[0m: name 'color_new' is not defined"
     ]
    }
   ],
   "source": [
    "v = pptk.viewer(lidar_points, color_new)"
   ]
  }
 ],
 "metadata": {
  "kernelspec": {
   "display_name": "Python 3",
   "language": "python",
   "name": "python3"
  },
  "language_info": {
   "codemirror_mode": {
    "name": "ipython",
    "version": 3
   },
   "file_extension": ".py",
   "mimetype": "text/x-python",
   "name": "python",
   "nbconvert_exporter": "python",
   "pygments_lexer": "ipython3",
   "version": "3.6.5"
  }
 },
 "nbformat": 4,
 "nbformat_minor": 2
}
