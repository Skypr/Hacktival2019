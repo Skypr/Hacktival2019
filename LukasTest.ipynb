{
 "cells": [
  {
   "cell_type": "code",
   "execution_count": 1,
   "metadata": {},
   "outputs": [],
   "source": [
    "import numpy as np\n",
    "from laspy.file import File\n",
    "from pandas import DataFrame\n",
    "from geopandas import GeoDataFrame\n",
    "from shapely.geometry import Point\n",
    "from IPython.display import display, clear_output\n",
    "import pptk\n",
    "\n",
    "from sklearn.datasets import make_blobs\n",
    "import numpy as np\n",
    "import matplotlib.pyplot as plt"
   ]
  },
  {
   "cell_type": "code",
   "execution_count": 16,
   "metadata": {},
   "outputs": [],
   "source": [
    "file_name = \"data/colonge_small/dom1l-fp_32356_5645_1_nw.xyz\"\n",
    "\n",
    "#read the file into a numpy array\n",
    "lidar_points = np.loadtxt(open(file_name, \"r\"), delimiter=\",\", skiprows=0)"
   ]
  },
  {
   "cell_type": "code",
   "execution_count": 3,
   "metadata": {},
   "outputs": [],
   "source": [
    "def compare(leader, follower, axis, color_array):\n",
    "    \n",
    "    cutoff = 10\n",
    "    \n",
    "    red = np.array([1,0,0])\n",
    "    \n",
    "    purple = np.array([1,0,1])\n",
    "    \n",
    "    blue = np.array([0,0,1])\n",
    "    \n",
    "    edge_array = np.zeros(follower.shape)\n",
    "    \n",
    "    point_index = 0\n",
    "    \n",
    "    #print(\"===============\")\n",
    "    \n",
    "    previous_point = 0\n",
    "    \n",
    "    first = True;\n",
    "    \n",
    "    #print(\"=======\")\n",
    "\n",
    "    for point in follower:\n",
    "        \n",
    "        #print(\"point_index\" + str(point_index))\n",
    "        \n",
    "        #print(\"point: \" + str(point))\n",
    "        \n",
    "        #search the closest y value\n",
    "        index = 0\n",
    "        \n",
    "        closest_distance = np.Infinity\n",
    "        closest_index = np.Infinity\n",
    "        \n",
    "        while (index < leader.shape[0]):\n",
    "            distance = abs(point[axis] - leader[index][axis])\n",
    "            \n",
    "            if (distance > closest_distance):\n",
    "                #we are getting further away again\n",
    "                #break;\n",
    "                j = 5\n",
    "            else:\n",
    "                closest_distance = distance\n",
    "                closest_index = index\n",
    "            \n",
    "            index = index + 1\n",
    "        \n",
    "        if(closest_distance < 0.5):\n",
    "        \n",
    "            delta = point[2] - leader[closest_index][2]\n",
    "\n",
    "            if (abs(delta) > cutoff):\n",
    "                color_array[point_index] = red\n",
    "\n",
    "            if (not(first)):\n",
    "                if (abs(previous_point[2] - point[2]) > cutoff):\n",
    "                    color_array[point_index] = red\n",
    "        \n",
    "        #if (point[2] > 60):\n",
    "        #    color_array[point_index] = red\n",
    "        \n",
    "            #else:\n",
    "            #    print(\"point: \" + str(point) + \" previous: \" + str(previous_point) )\n",
    "        first = False\n",
    "        \n",
    "        point_index = point_index + 1\n",
    "        \n",
    "        previous_point = point\n",
    "        \n",
    "    return color_array\n",
    "        "
   ]
  },
  {
   "cell_type": "code",
   "execution_count": 4,
   "metadata": {},
   "outputs": [],
   "source": [
    "def threeToTwoD(threeDimData, color_array):\n",
    "    \n",
    "    current_pos = 0\n",
    "\n",
    "    max_size = 0;\n",
    "    \n",
    "    previous_array = 0\n",
    "    previous_size = 0\n",
    "    \n",
    "    have_to_compare = False\n",
    "    \n",
    "    color_index = 0\n",
    "    \n",
    "    #we now fit all arrays to the same size \n",
    "    while (current_pos < threeDimData.shape[0]):\n",
    "        \n",
    "        #clear_output(wait=True)\n",
    "        #display(\"progress: \" + str(current_pos / threeDimData.shape[0]))\n",
    "        \n",
    "        current_start = current_pos\n",
    "        \n",
    "        current_value = threeDimData[current_pos][0]\n",
    "        \n",
    "        if (current_pos != 0):\n",
    "            have_to_compare = True\n",
    "        \n",
    "        size = 0\n",
    "        \n",
    "        while (current_pos < threeDimData.shape[0] and threeDimData[current_pos][0] == current_value):\n",
    "            size = size + 1\n",
    "            current_pos = current_pos + 1\n",
    "\n",
    "        current_array = threeDimData[current_start:current_pos]\n",
    "        \n",
    "        if (have_to_compare): #we have to compare the current_array with the last\n",
    "            color_array[current_start:current_pos] = compare(previous_array, current_array, 1, color_array[current_start:current_pos])\n",
    "        \n",
    "        color_index = color_index + size\n",
    "        \n",
    "        previous_size = size\n",
    "        previous_array = current_array\n",
    "        \n",
    "    return color_array\n",
    "    "
   ]
  },
  {
   "cell_type": "code",
   "execution_count": 5,
   "metadata": {
    "scrolled": true
   },
   "outputs": [],
   "source": [
    "#max = 100000\n",
    "#color = np.full((lidar_points.shape[0], 3), 1)\n",
    "#color_new = threeToTwoD(lidar_points[0:max], color[0:max])\n",
    "#print(color_new)"
   ]
  },
  {
   "cell_type": "code",
   "execution_count": 6,
   "metadata": {},
   "outputs": [],
   "source": [
    "#v = pptk.viewer(lidar_points, color)\n",
    "#v = pptk.viewer(lidar_points[0:max], color_new)"
   ]
  },
  {
   "cell_type": "code",
   "execution_count": 17,
   "metadata": {
    "scrolled": true
   },
   "outputs": [
    {
     "data": {
      "text/plain": [
       "'progress: 0.9999635714545918'"
      ]
     },
     "metadata": {},
     "output_type": "display_data"
    },
    {
     "name": "stdout",
     "output_type": "stream",
     "text": [
      "before, there were: 8235300 points\n",
      "afterwards, there were: 8235300 points\n"
     ]
    }
   ],
   "source": [
    "def pointRound(x, base=5):\n",
    "    return base * round(x/base)\n",
    "\n",
    "rounding_distance = 2\n",
    "\n",
    "print(\"before, there were: \" + str(lidar_points.shape[0]) + \" points\")\n",
    "\n",
    "tmp = 0\n",
    "\n",
    "counter = 0\n",
    "\n",
    "lidar_points_clustered = np.copy(lidar_points)\n",
    "\n",
    "length = lidar_points_clustered.shape[0]\n",
    "\n",
    "for i in range(0, length):\n",
    "    \n",
    "    if(tmp == 9000):\n",
    "        tmp = 0\n",
    "        clear_output(wait=True)\n",
    "        display(\"progress: \" + str(counter / length))\n",
    "    \n",
    "    counter += 1\n",
    "    tmp += 1\n",
    "    \n",
    "    lidar_points_clustered[i][0] = pointRound(lidar_points_clustered[i][0])\n",
    "    lidar_points_clustered[i][1] = pointRound(lidar_points_clustered[i][1])\n",
    "    lidar_points_clustered[i][2] = pointRound(lidar_points_clustered[i][2])\n",
    "    \n",
    "#lidar_points = np.unique(lidar_points)\n",
    "\n",
    "print(\"before, there were: \" + str(length) + \" points\")\n",
    "\n",
    "print(\"afterwards, there were: \" + str(lidar_points_clustered.shape[0]) + \" points\")"
   ]
  },
  {
   "cell_type": "code",
   "execution_count": 21,
   "metadata": {},
   "outputs": [
    {
     "name": "stdout",
     "output_type": "stream",
     "text": [
      "afterwards, there were: 107496 points\n"
     ]
    }
   ],
   "source": [
    "unique = np.unique(lidar_points_clustered, axis=0)\n",
    "\n",
    "print(\"afterwards, there were: \" + str(unique.shape[0]) + \" points\")\n",
    "\n",
    "color = np.full((unique.shape[0], 3), 1)\n",
    "v = pptk.viewer(unique)"
   ]
  }
 ],
 "metadata": {
  "kernelspec": {
   "display_name": "Python 3",
   "language": "python",
   "name": "python3"
  },
  "language_info": {
   "codemirror_mode": {
    "name": "ipython",
    "version": 3
   },
   "file_extension": ".py",
   "mimetype": "text/x-python",
   "name": "python",
   "nbconvert_exporter": "python",
   "pygments_lexer": "ipython3",
   "version": "3.6.5"
  }
 },
 "nbformat": 4,
 "nbformat_minor": 2
}
