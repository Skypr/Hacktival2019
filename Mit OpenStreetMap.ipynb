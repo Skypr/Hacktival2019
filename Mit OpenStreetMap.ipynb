{
 "cells": [
  {
   "cell_type": "code",
   "execution_count": 1,
   "metadata": {},
   "outputs": [],
   "source": [
    "import numpy as np\n",
    "import pandas\n",
    "import geopandas\n",
    "from shapely.geometry import Point\n",
    "from IPython.display import display, clear_output\n",
    "import pptk"
   ]
  },
  {
   "cell_type": "code",
   "execution_count": null,
   "metadata": {},
   "outputs": [],
   "source": [
    "def pointRound(x, base=5):\n",
    "    return base * round(x/base)"
   ]
  },
  {
   "cell_type": "code",
   "execution_count": null,
   "metadata": {},
   "outputs": [],
   "source": [
    "def cluster(point_array, base=5):\n",
    "    tmp = 0\n",
    "    counter = 0\n",
    "\n",
    "    lidar_points_clustered = np.copy(lidar_points)\n",
    "\n",
    "    length = lidar_points_clustered.shape[0]\n",
    "\n",
    "    for i in range(0, length):\n",
    "\n",
    "        if(tmp == 9000):\n",
    "            tmp = 0\n",
    "            clear_output(wait=True)\n",
    "            display(\"progress: \" + str(counter / length))\n",
    "\n",
    "        counter += 1\n",
    "        tmp += 1\n",
    "\n",
    "        lidar_points_clustered[i][0] = pointRound(lidar_points_clustered[i][0], base)\n",
    "        lidar_points_clustered[i][1] = pointRound(lidar_points_clustered[i][1], base)\n",
    "        lidar_points_clustered[i][2] = pointRound(lidar_points_clustered[i][2], base)\n",
    "\n",
    "    #lidar_points = np.unique(lidar_points)\n",
    "\n",
    "    print(\"before, there were: \" + str(length) + \" points\")\n",
    "\n",
    "    print(\"afterwards, there were: \" + str(lidar_points_clustered.shape[0]) + \" points\")\n",
    "    \n",
    "    return np.unique(lidar_points, axis=0)"
   ]
  },
  {
   "cell_type": "code",
   "execution_count": 2,
   "metadata": {},
   "outputs": [],
   "source": [
    "def isInBox(point_x, point_y , bounds):\n",
    "    #bounds = (minx, miny, maxx, maxy)\n",
    "    return ((point_x > bounds[0]) and (point_x < bounds[2]) and (point_y > bounds[1]) and (point_y < bounds[3]))"
   ]
  },
  {
   "cell_type": "code",
   "execution_count": 3,
   "metadata": {},
   "outputs": [],
   "source": [
    "def crossProdTest(point_a, point_b, point_c):\n",
    "    if ((point_a[1] == point_b[1]) and (point_b[1] == point_c[1])):\n",
    "        if ((point_b[0] <= point_a[0]) and (point_a[0] <= point_c[0]) or (point_c[0] <= point_a[0]) and (point_a[0] <= point_b[0])):\n",
    "            return 0\n",
    "        else:\n",
    "            return 1\n",
    "        \n",
    "    if ((point_a[1] == point_b[1]) and (point_a[0] == point_b[0])):\n",
    "        return 0\n",
    "    \n",
    "    if (point_b[1] > point_c[1]):\n",
    "        point_b, point_c = point_c, point_b\n",
    "    \n",
    "    if ((point_a[1] <= point_b[1]) or (point_a[1] > point_c[1])):\n",
    "        return 1\n",
    "    \n",
    "    delta = (point_b[0] - point_a[0]) * (point_c[1] - point_a[1]) - (point_b[1] - point_a[1]) * (point_c[0] - point_a[0])\n",
    "    \n",
    "    if (delta > 0):\n",
    "        return -1\n",
    "    elif (delta < 0):\n",
    "        return 1\n",
    "    else:\n",
    "        return 0"
   ]
  },
  {
   "cell_type": "code",
   "execution_count": 4,
   "metadata": {},
   "outputs": [],
   "source": [
    "def isPointInPolygon(point, polygon):\n",
    "    #polygon = np.insert(polygon, 0, polygon[-1])    \n",
    "    polygon = [polygon[-1]] + polygon\n",
    "    t = -1\n",
    "    \n",
    "    #print(\"poly: \" + str(polygon))\n",
    "    \n",
    "    for i in range(0, (len(polygon) - 1)):\n",
    "        t = t * crossProdTest(point, polygon[i], polygon[i + 1])\n",
    "        if (t == 0):\n",
    "            return True\n",
    "    return (t >= 0)\n",
    "    "
   ]
  },
  {
   "cell_type": "code",
   "execution_count": 5,
   "metadata": {},
   "outputs": [],
   "source": [
    "shape_file = \"data/colonge_small/shp_koeln/gis_osm_buildings.shp\"\n",
    "shape  = geopandas.read_file(shape_file)\n",
    "\n",
    "lidar_file = \"data/colonge_small/dom1l-fp_32356_5645_1_nw.xyz\"\n",
    "#read the file into a numpy array\n",
    "lidar_points = np.loadtxt(open(lidar_file, \"r\"), delimiter=\",\", skiprows=0)"
   ]
  },
  {
   "cell_type": "code",
   "execution_count": 11,
   "metadata": {},
   "outputs": [],
   "source": [
    "max_index = shape.index.max()\n",
    "\n",
    "list_polygons = []\n",
    "\n",
    "for i in range(0, (max_index + 1)):\n",
    "    current_object = shape.loc[i]\n",
    "    \n",
    "    shape_name = current_object['name']\n",
    "    shape_type = current_object['type']\n",
    "    \n",
    "    if (shape_name == None and (shape_type == None or shape_type == \"appartment\" or shape_type == \"house\")):\n",
    "        #print(current_object['geometry'])\n",
    "        geometry_object = current_object['geometry']\n",
    "        \n",
    "        #print(geometry_object.size)\n",
    "\n",
    "        list_polygons.append([geometry_object.exterior.coords[:], geometry_object.bounds, 0, True])\n",
    "        \n",
    "        #print(len(geometry_object.exterior.coords[:]))\n",
    "        \n",
    "        \n",
    "        \n",
    "# print((list_polygons[0]))\n",
    "\n",
    "# print(isPointInPolygon((356619.9304537382,5.64553368694670775e6), list_polygons[0][0]))\n",
    "\n",
    "lidar_z_sorted_desc = np.flip(lidar_points[lidar_points[:,2].argsort()], 0)"
   ]
  },
  {
   "cell_type": "code",
   "execution_count": null,
   "metadata": {},
   "outputs": [],
   "source": [
    "clustered = cluster(lidar_points)\n",
    "lidar_clustered_z_sorted_desc = np.flip(clustered[clustered[:,2].argsort()], 0)"
   ]
  },
  {
   "cell_type": "code",
   "execution_count": 12,
   "metadata": {},
   "outputs": [
    {
     "name": "stdout",
     "output_type": "stream",
     "text": [
      ".\n",
      ".\n",
      ".\n",
      ".\n",
      ".\n",
      ".\n",
      ".\n",
      ".\n"
     ]
    },
    {
     "ename": "KeyboardInterrupt",
     "evalue": "",
     "output_type": "error",
     "traceback": [
      "\u001b[1;31m---------------------------------------------------------------------------\u001b[0m",
      "\u001b[1;31mKeyboardInterrupt\u001b[0m                         Traceback (most recent call last)",
      "\u001b[1;32m<ipython-input-12-2bd05b3e2dd3>\u001b[0m in \u001b[0;36m<module>\u001b[1;34m\u001b[0m\n\u001b[0;32m      2\u001b[0m     \u001b[1;32mfor\u001b[0m \u001b[0mpolygon\u001b[0m \u001b[1;32min\u001b[0m \u001b[0mlist_polygons\u001b[0m\u001b[1;33m:\u001b[0m\u001b[1;33m\u001b[0m\u001b[0m\n\u001b[0;32m      3\u001b[0m         \u001b[1;32mif\u001b[0m\u001b[1;33m(\u001b[0m\u001b[0mpolygon\u001b[0m\u001b[1;33m[\u001b[0m\u001b[1;36m3\u001b[0m\u001b[1;33m]\u001b[0m\u001b[1;33m)\u001b[0m\u001b[1;33m:\u001b[0m\u001b[1;33m\u001b[0m\u001b[0m\n\u001b[1;32m----> 4\u001b[1;33m             \u001b[1;32mif\u001b[0m \u001b[1;33m(\u001b[0m\u001b[0misInBox\u001b[0m\u001b[1;33m(\u001b[0m\u001b[0mpoint\u001b[0m\u001b[1;33m[\u001b[0m\u001b[1;36m0\u001b[0m\u001b[1;33m]\u001b[0m\u001b[1;33m,\u001b[0m \u001b[0mpoint\u001b[0m\u001b[1;33m[\u001b[0m\u001b[1;36m1\u001b[0m\u001b[1;33m]\u001b[0m\u001b[1;33m,\u001b[0m \u001b[0mpolygon\u001b[0m\u001b[1;33m[\u001b[0m\u001b[1;36m1\u001b[0m\u001b[1;33m]\u001b[0m\u001b[1;33m)\u001b[0m\u001b[1;33m)\u001b[0m\u001b[1;33m:\u001b[0m\u001b[1;33m\u001b[0m\u001b[0m\n\u001b[0m\u001b[0;32m      5\u001b[0m                 \u001b[1;32mif\u001b[0m\u001b[1;33m(\u001b[0m\u001b[0misPointInPolygon\u001b[0m\u001b[1;33m(\u001b[0m\u001b[0mpoint\u001b[0m\u001b[1;33m,\u001b[0m \u001b[0mpolygon\u001b[0m\u001b[1;33m[\u001b[0m\u001b[1;36m0\u001b[0m\u001b[1;33m]\u001b[0m\u001b[1;33m)\u001b[0m\u001b[1;33m)\u001b[0m\u001b[1;33m:\u001b[0m\u001b[1;33m\u001b[0m\u001b[0m\n\u001b[0;32m      6\u001b[0m                     \u001b[0mpolygon\u001b[0m\u001b[1;33m[\u001b[0m\u001b[1;36m2\u001b[0m\u001b[1;33m]\u001b[0m \u001b[1;33m=\u001b[0m \u001b[0mpoint\u001b[0m\u001b[1;33m[\u001b[0m\u001b[1;36m2\u001b[0m\u001b[1;33m]\u001b[0m\u001b[1;33m\u001b[0m\u001b[0m\n",
      "\u001b[1;32m<ipython-input-2-9a46d74fb4d8>\u001b[0m in \u001b[0;36misInBox\u001b[1;34m(point_x, point_y, bounds)\u001b[0m\n\u001b[1;32m----> 1\u001b[1;33m \u001b[1;32mdef\u001b[0m \u001b[0misInBox\u001b[0m\u001b[1;33m(\u001b[0m\u001b[0mpoint_x\u001b[0m\u001b[1;33m,\u001b[0m \u001b[0mpoint_y\u001b[0m \u001b[1;33m,\u001b[0m \u001b[0mbounds\u001b[0m\u001b[1;33m)\u001b[0m\u001b[1;33m:\u001b[0m\u001b[1;33m\u001b[0m\u001b[0m\n\u001b[0m\u001b[0;32m      2\u001b[0m     \u001b[1;31m#bounds = (minx, miny, maxx, maxy)\u001b[0m\u001b[1;33m\u001b[0m\u001b[1;33m\u001b[0m\u001b[0m\n\u001b[0;32m      3\u001b[0m     \u001b[1;32mreturn\u001b[0m \u001b[1;33m(\u001b[0m\u001b[1;33m(\u001b[0m\u001b[0mpoint_x\u001b[0m \u001b[1;33m>\u001b[0m \u001b[0mbounds\u001b[0m\u001b[1;33m[\u001b[0m\u001b[1;36m0\u001b[0m\u001b[1;33m]\u001b[0m\u001b[1;33m)\u001b[0m \u001b[1;32mand\u001b[0m \u001b[1;33m(\u001b[0m\u001b[0mpoint_x\u001b[0m \u001b[1;33m<\u001b[0m \u001b[0mbounds\u001b[0m\u001b[1;33m[\u001b[0m\u001b[1;36m2\u001b[0m\u001b[1;33m]\u001b[0m\u001b[1;33m)\u001b[0m \u001b[1;32mand\u001b[0m \u001b[1;33m(\u001b[0m\u001b[0mpoint_y\u001b[0m \u001b[1;33m>\u001b[0m \u001b[0mbounds\u001b[0m\u001b[1;33m[\u001b[0m\u001b[1;36m1\u001b[0m\u001b[1;33m]\u001b[0m\u001b[1;33m)\u001b[0m \u001b[1;32mand\u001b[0m \u001b[1;33m(\u001b[0m\u001b[0mpoint_y\u001b[0m \u001b[1;33m<\u001b[0m \u001b[0mbounds\u001b[0m\u001b[1;33m[\u001b[0m\u001b[1;36m3\u001b[0m\u001b[1;33m]\u001b[0m\u001b[1;33m)\u001b[0m\u001b[1;33m)\u001b[0m\u001b[1;33m\u001b[0m\u001b[0m\n",
      "\u001b[1;31mKeyboardInterrupt\u001b[0m: "
     ]
    }
   ],
   "source": [
    "for point in lidar_z_sorted_desc:\n",
    "    for polygon in list_polygons:\n",
    "        if(polygon[3]):\n",
    "            if (isInBox(point[0], point[1], polygon[1])):\n",
    "                if(isPointInPolygon(point, polygon[0])):\n",
    "                    polygon[2] = point[2]\n",
    "                    polygon[3] = False\n",
    "                    print(\".\")\n"
   ]
  }
 ],
 "metadata": {
  "kernelspec": {
   "display_name": "Python 3",
   "language": "python",
   "name": "python3"
  },
  "language_info": {
   "codemirror_mode": {
    "name": "ipython",
    "version": 3
   },
   "file_extension": ".py",
   "mimetype": "text/x-python",
   "name": "python",
   "nbconvert_exporter": "python",
   "pygments_lexer": "ipython3",
   "version": "3.6.5"
  }
 },
 "nbformat": 4,
 "nbformat_minor": 2
}
