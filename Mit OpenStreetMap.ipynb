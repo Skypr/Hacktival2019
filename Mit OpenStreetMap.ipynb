{
 "cells": [
  {
   "cell_type": "code",
   "execution_count": 42,
   "metadata": {},
   "outputs": [],
   "source": [
    "import numpy as np\n",
    "import pandas\n",
    "import geopandas\n",
    "from shapely.geometry import Point\n",
    "from IPython.display import display, clear_output\n",
    "import pptk\n",
    "from sklearn.neighbors import KDTree\n",
    "import time"
   ]
  },
  {
   "cell_type": "code",
   "execution_count": 74,
   "metadata": {},
   "outputs": [],
   "source": [
    "def pointRound(x, base=5):\n",
    "    return base * round(x/base)"
   ]
  },
  {
   "cell_type": "code",
   "execution_count": 79,
   "metadata": {},
   "outputs": [],
   "source": [
    "def cluster(point_array, base=5):\n",
    "    tmp = 0\n",
    "    counter = 0\n",
    "\n",
    "    lidar_points_clustered = np.copy(lidar_points)\n",
    "\n",
    "    length = lidar_points_clustered.shape[0]\n",
    "\n",
    "    for i in range(0, length):\n",
    "\n",
    "        if(tmp == 9000):\n",
    "            tmp = 0\n",
    "            clear_output(wait=True)\n",
    "            display(\"progress: \" + str(counter / length))\n",
    "\n",
    "        counter += 1\n",
    "        tmp += 1\n",
    "\n",
    "        lidar_points_clustered[i][0] = pointRound(lidar_points_clustered[i][0], base)\n",
    "        lidar_points_clustered[i][1] = pointRound(lidar_points_clustered[i][1], base)\n",
    "        lidar_points_clustered[i][2] = pointRound(lidar_points_clustered[i][2], base)\n",
    "\n",
    "    #lidar_points = np.unique(lidar_points)\n",
    "\n",
    "    print(\"before, there were: \" + str(length) + \" points\")\n",
    "\n",
    "    unique = np.unique(lidar_points_clustered, axis=0)\n",
    "    \n",
    "    print(\"afterwards, there were: \" + str(unique.shape[0]) + \" points\")\n",
    "    \n",
    "    return unique"
   ]
  },
  {
   "cell_type": "code",
   "execution_count": 4,
   "metadata": {},
   "outputs": [],
   "source": [
    "def isInBox(point_x, point_y , bounds):\n",
    "    #bounds = (minx, miny, maxx, maxy)\n",
    "    return ((point_x > bounds[0]) and (point_x < bounds[2]) and (point_y > bounds[1]) and (point_y < bounds[3]))"
   ]
  },
  {
   "cell_type": "code",
   "execution_count": 5,
   "metadata": {},
   "outputs": [],
   "source": [
    "def crossProdTest(point_a, point_b, point_c):\n",
    "    if ((point_a[1] == point_b[1]) and (point_b[1] == point_c[1])):\n",
    "        if ((point_b[0] <= point_a[0]) and (point_a[0] <= point_c[0]) or (point_c[0] <= point_a[0]) and (point_a[0] <= point_b[0])):\n",
    "            return 0\n",
    "        else:\n",
    "            return 1\n",
    "        \n",
    "    if ((point_a[1] == point_b[1]) and (point_a[0] == point_b[0])):\n",
    "        return 0\n",
    "    \n",
    "    if (point_b[1] > point_c[1]):\n",
    "        point_b, point_c = point_c, point_b\n",
    "    \n",
    "    if ((point_a[1] <= point_b[1]) or (point_a[1] > point_c[1])):\n",
    "        return 1\n",
    "    \n",
    "    delta = (point_b[0] - point_a[0]) * (point_c[1] - point_a[1]) - (point_b[1] - point_a[1]) * (point_c[0] - point_a[0])\n",
    "    \n",
    "    if (delta > 0):\n",
    "        return -1\n",
    "    elif (delta < 0):\n",
    "        return 1\n",
    "    else:\n",
    "        return 0"
   ]
  },
  {
   "cell_type": "code",
   "execution_count": 6,
   "metadata": {},
   "outputs": [],
   "source": [
    "def isPointInPolygon(point, polygon):\n",
    "    #polygon = np.insert(polygon, 0, polygon[-1])    \n",
    "    polygon = [polygon[-1]] + polygon\n",
    "    t = -1\n",
    "    \n",
    "    #print(\"poly: \" + str(polygon))\n",
    "    \n",
    "    for i in range(0, (len(polygon) - 1)):\n",
    "        t = t * crossProdTest(point, polygon[i], polygon[i + 1])\n",
    "        if (t == 0):\n",
    "            return True\n",
    "    return (t >= 0)\n",
    "    "
   ]
  },
  {
   "cell_type": "code",
   "execution_count": 7,
   "metadata": {},
   "outputs": [],
   "source": [
    "shape_file = \"data/colonge_small/shp_koeln/gis_osm_buildings.shp\"\n",
    "shape  = geopandas.read_file(shape_file)\n",
    "\n",
    "transport_shape = \"./data/colonge_small/shp_koeln/gis_osm_transport.shp\"\n",
    "transport_shape = geopandas.read_file(transport_shape)\n",
    "transport_shape.drop( transport_shape[ transport_shape['fclass'] == 'taxi' ].index , inplace=True)\n",
    "\n",
    "lidar_file = \"data/colonge_small/dom1l-fp_32356_5645_1_nw.xyz\"\n",
    "#read the file into a numpy array\n",
    "lidar_points = np.loadtxt(open(lidar_file, \"r\"), delimiter=\",\", skiprows=0)"
   ]
  },
  {
   "cell_type": "code",
   "execution_count": 32,
   "metadata": {},
   "outputs": [],
   "source": [
    "max_index = shape.index.max()\n",
    "\n",
    "list_polygons = []\n",
    "\n",
    "for i in range(0, (max_index + 1)):\n",
    "    current_object = shape.loc[i]\n",
    "    \n",
    "    shape_name = current_object['name']\n",
    "    shape_type = current_object['type']\n",
    "    \n",
    "    if (shape_name == None and (shape_type == None or shape_type == \"appartment\" or shape_type == \"house\")):\n",
    "        #print(current_object['geometry'])\n",
    "        geometry_object = current_object['geometry']\n",
    "        \n",
    "        #print(geometry_object.size)\n",
    "\n",
    "        list_polygons.append([geometry_object.exterior.coords[:], geometry_object.bounds, 0, True])\n",
    "        \n",
    "        pure = geometry_object.exterior.coords[:]\n",
    "        \n",
    "        #print(len(geometry_object.exterior.coords[:]))\n",
    "        \n",
    "        \n",
    "        \n",
    "# print((list_polygons[0]))\n",
    "\n",
    "# print(isPointInPolygon((356619.9304537382,5.64553368694670775e6), list_polygons[0][0]))\n",
    "\n",
    "#lidar_z_sorted_desc = np.flip(lidar_points[lidar_points[:,2].argsort()], 0)"
   ]
  },
  {
   "cell_type": "code",
   "execution_count": 80,
   "metadata": {},
   "outputs": [
    {
     "data": {
      "text/plain": [
       "'progress: 0.9999635714545918'"
      ]
     },
     "metadata": {},
     "output_type": "display_data"
    },
    {
     "name": "stdout",
     "output_type": "stream",
     "text": [
      "before, there were: 8235300 points\n",
      "afterwards, there were: 107496 points\n"
     ]
    }
   ],
   "source": [
    "clustered = cluster(lidar_points, 5)\n",
    "lidar_clustered_z_sorted_desc = np.flip(clustered[clustered[:,2].argsort()], 0)"
   ]
  },
  {
   "cell_type": "raw",
   "metadata": {},
   "source": [
    "for point in lidar_z_sorted_desc:\n",
    "    for polygon in list_polygons:\n",
    "        if(polygon[3]):\n",
    "            if (isInBox(point[0], point[1], polygon[2])):\n",
    "                if(isPointInPolygon(point, polygon[0])):\n",
    "                    polygon[2] = point[2]\n",
    "                    polygon[3] = False\n",
    "                    print(\".\")\n",
    "                    break\n"
   ]
  },
  {
   "cell_type": "raw",
   "metadata": {},
   "source": [
    "tree = KDTree(lidar_clustered_z_sorted_desc)"
   ]
  },
  {
   "cell_type": "code",
   "execution_count": 94,
   "metadata": {},
   "outputs": [
    {
     "data": {
      "text/plain": [
       "'progress: 0.9995226730310263'"
      ]
     },
     "metadata": {},
     "output_type": "display_data"
    },
    {
     "name": "stdout",
     "output_type": "stream",
     "text": [
      "not found: 1024 of 2095\n"
     ]
    }
   ],
   "source": [
    "max_distance = 50\n",
    "standart_height = 80\n",
    "\n",
    "length = len(list_polygons)\n",
    "\n",
    "counter = 0\n",
    "\n",
    "not_found = 0\n",
    "\n",
    "for polygon in list_polygons:\n",
    "    \n",
    "    clear_output(wait=True)\n",
    "    display(\"progress: \" + str(counter / length))\n",
    "    counter += 1\n",
    "    \n",
    "    #bounds = (minx, miny, maxx, maxy)\n",
    "    mid_x = (polygon[1][0] + polygon[1][2]) / 2 #find the mid point for the x coordinate\n",
    "    mid_y = (polygon[1][1] + polygon[1][3]) / 2 #find the mid point for the y coordinate\n",
    "    nearest_neighbors = (tree.query_radius(np.array([mid_x, mid_y, standart_height]).reshape(1, -1), max_distance))\n",
    "    \n",
    "    nearest_neighbors = np.sort(nearest_neighbors[0])\n",
    "    \n",
    "    for neighbor_index in nearest_neighbors:\n",
    "        neighbor_point = lidar_clustered_z_sorted_desc[neighbor_index]\n",
    "        \n",
    "        if(polygon[3]):\n",
    "            if (isInBox(neighbor_point[0], neighbor_point[1], polygon[1])):\n",
    "                if(isPointInPolygon(neighbor_point, polygon[0])):\n",
    "                    polygon[2] = point[2]\n",
    "                    polygon[3] = False\n",
    "                    print(\".\")\n",
    "                    break\n",
    "    \n",
    "    if(polygon[3]):\n",
    "        #print(\"exhausted all \" + str(len(nearest_neighbors)) + \" but found not fitting one\")\n",
    "        not_found += 1\n",
    "\n",
    "print(\"not found: \" + str(not_found) + \" of \" + str(length))"
   ]
  },
  {
   "cell_type": "code",
   "execution_count": 58,
   "metadata": {},
   "outputs": [
    {
     "name": "stdout",
     "output_type": "stream",
     "text": [
      "15103\n"
     ]
    }
   ],
   "source": [
    "print(len(nearest_neighbors[0]))"
   ]
  },
  {
   "cell_type": "code",
   "execution_count": 26,
   "metadata": {},
   "outputs": [
    {
     "name": "stdout",
     "output_type": "stream",
     "text": [
      ".\n",
      ".\n",
      ".\n",
      ".\n",
      ".\n",
      ".\n",
      ".\n",
      ".\n",
      ".\n",
      ".\n",
      ".\n",
      ".\n",
      ".\n",
      ".\n",
      ".\n",
      ".\n",
      ".\n",
      ".\n",
      ".\n",
      ".\n",
      ".\n",
      ".\n",
      ".\n",
      ".\n",
      ".\n",
      ".\n",
      ".\n",
      ".\n",
      ".\n",
      ".\n",
      ".\n",
      ".\n",
      ".\n",
      ".\n",
      ".\n",
      ".\n",
      ".\n",
      ".\n",
      ".\n",
      ".\n",
      ".\n",
      ".\n",
      ".\n",
      ".\n",
      ".\n",
      ".\n",
      ".\n",
      ".\n",
      ".\n",
      ".\n",
      ".\n",
      ".\n",
      ".\n",
      ".\n",
      ".\n",
      ".\n",
      ".\n",
      ".\n"
     ]
    },
    {
     "ename": "KeyboardInterrupt",
     "evalue": "",
     "output_type": "error",
     "traceback": [
      "\u001b[1;31m---------------------------------------------------------------------------\u001b[0m",
      "\u001b[1;31mKeyboardInterrupt\u001b[0m                         Traceback (most recent call last)",
      "\u001b[1;32m<ipython-input-26-446a14ff0433>\u001b[0m in \u001b[0;36m<module>\u001b[1;34m\u001b[0m\n\u001b[0;32m      2\u001b[0m     \u001b[1;32mif\u001b[0m\u001b[1;33m(\u001b[0m\u001b[0mpolygon\u001b[0m\u001b[1;33m[\u001b[0m\u001b[1;36m3\u001b[0m\u001b[1;33m]\u001b[0m\u001b[1;33m)\u001b[0m\u001b[1;33m:\u001b[0m\u001b[1;33m\u001b[0m\u001b[0m\n\u001b[0;32m      3\u001b[0m         \u001b[1;32mfor\u001b[0m \u001b[0mpoint\u001b[0m \u001b[1;32min\u001b[0m \u001b[0mlidar_z_sorted_desc\u001b[0m\u001b[1;33m:\u001b[0m\u001b[1;33m\u001b[0m\u001b[0m\n\u001b[1;32m----> 4\u001b[1;33m             \u001b[1;32mif\u001b[0m \u001b[1;33m(\u001b[0m\u001b[0misInBox\u001b[0m\u001b[1;33m(\u001b[0m\u001b[0mpoint\u001b[0m\u001b[1;33m[\u001b[0m\u001b[1;36m0\u001b[0m\u001b[1;33m]\u001b[0m\u001b[1;33m,\u001b[0m \u001b[0mpoint\u001b[0m\u001b[1;33m[\u001b[0m\u001b[1;36m1\u001b[0m\u001b[1;33m]\u001b[0m\u001b[1;33m,\u001b[0m \u001b[0mpolygon\u001b[0m\u001b[1;33m[\u001b[0m\u001b[1;36m1\u001b[0m\u001b[1;33m]\u001b[0m\u001b[1;33m)\u001b[0m\u001b[1;33m)\u001b[0m\u001b[1;33m:\u001b[0m\u001b[1;33m\u001b[0m\u001b[0m\n\u001b[0m\u001b[0;32m      5\u001b[0m                 \u001b[1;32mif\u001b[0m\u001b[1;33m(\u001b[0m\u001b[0misPointInPolygon\u001b[0m\u001b[1;33m(\u001b[0m\u001b[0mpoint\u001b[0m\u001b[1;33m,\u001b[0m \u001b[0mpolygon\u001b[0m\u001b[1;33m[\u001b[0m\u001b[1;36m0\u001b[0m\u001b[1;33m]\u001b[0m\u001b[1;33m)\u001b[0m\u001b[1;33m)\u001b[0m\u001b[1;33m:\u001b[0m\u001b[1;33m\u001b[0m\u001b[0m\n\u001b[0;32m      6\u001b[0m                     \u001b[0mpolygon\u001b[0m\u001b[1;33m[\u001b[0m\u001b[1;36m2\u001b[0m\u001b[1;33m]\u001b[0m \u001b[1;33m=\u001b[0m \u001b[0mpoint\u001b[0m\u001b[1;33m[\u001b[0m\u001b[1;36m2\u001b[0m\u001b[1;33m]\u001b[0m\u001b[1;33m\u001b[0m\u001b[0m\n",
      "\u001b[1;31mKeyboardInterrupt\u001b[0m: "
     ]
    }
   ],
   "source": [
    "for polygon in list_polygons:\n",
    "    if(polygon[3]):\n",
    "        for point in lidar_z_sorted_desc:\n",
    "            if (isInBox(point[0], point[1], polygon[1])):\n",
    "                if(isPointInPolygon(point, polygon[0])):\n",
    "                    polygon[2] = point[2]\n",
    "                    polygon[3] = False\n",
    "                    print(\".\")\n",
    "                    break"
   ]
  }
 ],
 "metadata": {
  "kernelspec": {
   "display_name": "Python 3",
   "language": "python",
   "name": "python3"
  },
  "language_info": {
   "codemirror_mode": {
    "name": "ipython",
    "version": 3
   },
   "file_extension": ".py",
   "mimetype": "text/x-python",
   "name": "python",
   "nbconvert_exporter": "python",
   "pygments_lexer": "ipython3",
   "version": "3.6.5"
  }
 },
 "nbformat": 4,
 "nbformat_minor": 2
}
